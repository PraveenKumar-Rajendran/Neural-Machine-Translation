{
 "cells": [
  {
   "cell_type": "code",
   "execution_count": null,
   "metadata": {},
   "outputs": [],
   "source": [
    "# import os\n",
    "# import zipfile\n",
    "\n",
    "# def zip_directory(folder_path, output_zip_path):\n",
    "#     with zipfile.ZipFile(output_zip_path, 'w', zipfile.ZIP_DEFLATED) as zipf:\n",
    "#         for root, dirs, files in os.walk(folder_path):\n",
    "#             for file in files:\n",
    "#                 file_path = os.path.join(root, file)\n",
    "#                 arcname = os.path.relpath(file_path, folder_path)\n",
    "#                 zipf.write(file_path, arcname)\n",
    "\n",
    "# # Example usage\n",
    "# folder_to_zip = '../home'  # Replace with your folder path\n",
    "# output_zip_file = '../machine_translation.zip'  # Replace with your desired output zip file name\n",
    "\n",
    "# zip_directory(folder_to_zip, output_zip_file)"
   ]
  },
  {
   "cell_type": "code",
   "execution_count": 1,
   "metadata": {},
   "outputs": [
    {
     "name": "stdout",
     "output_type": "stream",
     "text": [
      "Python 3.11.0rc1\r\n"
     ]
    }
   ],
   "source": [
    "!python -V"
   ]
  },
  {
   "cell_type": "code",
   "execution_count": 2,
   "metadata": {},
   "outputs": [
    {
     "name": "stdout",
     "output_type": "stream",
     "text": [
      "absl-py==2.0.0\r\n",
      "anyio==4.3.0\r\n",
      "argon2-cffi==23.1.0\r\n",
      "argon2-cffi-bindings==21.2.0\r\n",
      "array_record==0.5.1\r\n",
      "arrow==1.3.0\r\n",
      "asttokens==2.4.1\r\n",
      "astunparse==1.6.3\r\n",
      "attrs==23.2.0\r\n",
      "beautifulsoup4==4.12.3\r\n",
      "bleach==6.1.0\r\n",
      "blinker==1.4\r\n",
      "cachetools==5.3.1\r\n",
      "certifi==2023.7.22\r\n",
      "cffi==1.16.0\r\n",
      "charset-normalizer==3.2.0\r\n",
      "click==8.1.7\r\n",
      "cloudpickle==3.0.0\r\n",
      "comm==0.2.2\r\n",
      "contourpy==1.2.1\r\n",
      "cryptography==3.4.8\r\n",
      "cycler==0.12.1\r\n",
      "dbus-python==1.2.18\r\n",
      "debugpy==1.8.1\r\n",
      "decorator==5.1.1\r\n",
      "defusedxml==0.7.1\r\n",
      "distro==1.7.0\r\n",
      "dm-tree==0.1.8\r\n",
      "entrypoints==0.4\r\n",
      "et-xmlfile==1.1.0\r\n",
      "etils==1.8.0\r\n",
      "executing==2.0.1\r\n",
      "fastjsonschema==2.19.1\r\n",
      "flatbuffers==23.5.26\r\n",
      "fonttools==4.51.0\r\n",
      "fqdn==1.5.1\r\n",
      "fsspec==2024.3.1\r\n",
      "gast==0.5.4\r\n",
      "google-auth==2.23.1\r\n",
      "google-auth-oauthlib==1.0.0\r\n",
      "google-pasta==0.2.0\r\n",
      "googleapis-common-protos==1.63.0\r\n",
      "grpcio==1.58.0\r\n",
      "gym==0.26.2\r\n",
      "gym-notices==0.0.8\r\n",
      "h5py==3.9.0\r\n",
      "httplib2==0.20.2\r\n",
      "idna==3.4\r\n",
      "importlib-metadata==4.6.4\r\n",
      "importlib_resources==6.4.0\r\n",
      "ipykernel==6.29.4\r\n",
      "ipython==8.24.0\r\n",
      "ipython-genutils==0.2.0\r\n",
      "isoduration==20.11.0\r\n",
      "jedi==0.19.1\r\n",
      "jeepney==0.7.1\r\n",
      "Jinja2==3.1.4\r\n",
      "joblib==1.4.2\r\n",
      "jsonpointer==2.4\r\n",
      "jsonschema==4.22.0\r\n",
      "jsonschema-specifications==2023.12.1\r\n",
      "jupyter-events==0.10.0\r\n",
      "jupyter_client==7.4.9\r\n",
      "jupyter_core==5.7.2\r\n",
      "jupyter_server==2.14.0\r\n",
      "jupyter_server_terminals==0.5.3\r\n",
      "jupyterlab_pygments==0.3.0\r\n",
      "keras==2.14.0\r\n",
      "keyring==23.5.0\r\n",
      "kiwisolver==1.4.5\r\n",
      "launchpadlib==1.10.16\r\n",
      "lazr.restfulclient==0.14.4\r\n",
      "lazr.uri==1.0.6\r\n",
      "libclang==16.0.6\r\n",
      "Markdown==3.4.4\r\n",
      "MarkupSafe==2.1.3\r\n",
      "matplotlib==3.8.2\r\n",
      "matplotlib-inline==0.1.7\r\n",
      "mistune==3.0.2\r\n",
      "ml-dtypes==0.2.0\r\n",
      "more-itertools==8.10.0\r\n",
      "nbclassic==1.0.0\r\n",
      "nbclient==0.10.0\r\n",
      "nbconvert==7.16.4\r\n",
      "nbformat==5.10.4\r\n",
      "nest-asyncio==1.6.0\r\n",
      "notebook==6.5.6\r\n",
      "notebook_shim==0.2.4\r\n",
      "numpy==1.26.3\r\n",
      "oauthlib==3.2.0\r\n",
      "openpyxl==3.1.2\r\n",
      "opt-einsum==3.3.0\r\n",
      "overrides==7.7.0\r\n",
      "packaging==23.1\r\n",
      "pandas==2.1.4\r\n",
      "pandocfilters==1.5.1\r\n",
      "parso==0.8.4\r\n",
      "pexpect==4.9.0\r\n",
      "pillow==10.2.0\r\n",
      "platformdirs==4.2.1\r\n",
      "prometheus_client==0.20.0\r\n",
      "promise==2.3\r\n",
      "prompt-toolkit==3.0.43\r\n",
      "protobuf==4.25.3\r\n",
      "psutil==5.9.8\r\n",
      "ptyprocess==0.7.0\r\n",
      "pure-eval==0.2.2\r\n",
      "pyasn1==0.5.0\r\n",
      "pyasn1-modules==0.3.0\r\n",
      "pycparser==2.22\r\n",
      "Pygments==2.18.0\r\n",
      "PyGObject==3.42.1\r\n",
      "PyJWT==2.3.0\r\n",
      "pyparsing==2.4.7\r\n",
      "python-apt==2.4.0+ubuntu2\r\n",
      "python-dateutil==2.9.0.post0\r\n",
      "python-json-logger==2.0.7\r\n",
      "pytz==2024.1\r\n",
      "PyYAML==6.0.1\r\n",
      "pyzmq==24.0.1\r\n",
      "referencing==0.35.1\r\n",
      "requests==2.31.0\r\n",
      "requests-oauthlib==1.3.1\r\n",
      "rfc3339-validator==0.1.4\r\n",
      "rfc3986-validator==0.1.1\r\n",
      "rpds-py==0.18.1\r\n",
      "rsa==4.9\r\n",
      "scikit-learn==1.4.0\r\n",
      "scipy==1.11.4\r\n",
      "seaborn==0.13.1\r\n",
      "SecretStorage==3.3.1\r\n",
      "Send2Trash==1.8.3\r\n",
      "six==1.16.0\r\n",
      "sniffio==1.3.1\r\n",
      "soupsieve==2.5\r\n",
      "stack-data==0.6.3\r\n",
      "tensorboard==2.14.0\r\n",
      "tensorboard-data-server==0.7.1\r\n",
      "tensorflow==2.14.0\r\n",
      "tensorflow-datasets==4.9.4\r\n",
      "tensorflow-estimator==2.14.0\r\n",
      "tensorflow-hub==0.16.1\r\n",
      "tensorflow-io-gcs-filesystem==0.34.0\r\n",
      "tensorflow-metadata==1.15.0\r\n",
      "termcolor==2.3.0\r\n",
      "terminado==0.18.1\r\n",
      "tf-keras==2.14.1\r\n",
      "threadpoolctl==3.5.0\r\n",
      "tinycss2==1.3.0\r\n",
      "toml==0.10.2\r\n",
      "tornado==6.4\r\n",
      "tqdm==4.66.4\r\n",
      "traitlets==5.14.3\r\n",
      "types-python-dateutil==2.9.0.20240316\r\n",
      "typing_extensions==4.8.0\r\n",
      "tzdata==2024.1\r\n",
      "uri-template==1.3.0\r\n",
      "urllib3==2.0.5\r\n",
      "wadllib==1.3.6\r\n",
      "wcwidth==0.2.13\r\n",
      "webcolors==1.13\r\n",
      "webencodings==0.5.1\r\n",
      "websocket-client==1.8.0\r\n",
      "Werkzeug==2.3.7\r\n",
      "wrapt==1.14.1\r\n",
      "zipp==1.0.0\r\n"
     ]
    }
   ],
   "source": [
    "!pip freeze"
   ]
  },
  {
   "cell_type": "markdown",
   "metadata": {
    "collapsed": true
   },
   "source": [
    "# Artificial Intelligence Nanodegree\n",
    "## Machine Translation Project\n",
    "In this notebook, sections that end with **'(IMPLEMENTATION)'** in the header indicate that the following blocks of code will require additional functionality which you must provide. Please be sure to read the instructions carefully!\n",
    "\n",
    "## Introduction\n",
    "In this notebook, you will build a deep neural network that functions as part of an end-to-end machine translation pipeline. Your completed pipeline will accept English text as input and return the French translation.\n",
    "\n",
    "- **Preprocess** - You'll convert text to sequence of integers.\n",
    "- **Models** Create models which accepts a sequence of integers as input and returns a probability distribution over possible translations. After learning about the basic types of neural networks that are often used for machine translation, you will engage in your own investigations, to design your own model!\n",
    "- **Prediction** Run the model on English text."
   ]
  },
  {
   "cell_type": "code",
   "execution_count": 3,
   "metadata": {},
   "outputs": [
    {
     "name": "stderr",
     "output_type": "stream",
     "text": [
      "2024-07-30 18:35:14.114045: E tensorflow/compiler/xla/stream_executor/cuda/cuda_dnn.cc:9342] Unable to register cuDNN factory: Attempting to register factory for plugin cuDNN when one has already been registered\n",
      "2024-07-30 18:35:14.114104: E tensorflow/compiler/xla/stream_executor/cuda/cuda_fft.cc:609] Unable to register cuFFT factory: Attempting to register factory for plugin cuFFT when one has already been registered\n",
      "2024-07-30 18:35:14.114157: E tensorflow/compiler/xla/stream_executor/cuda/cuda_blas.cc:1518] Unable to register cuBLAS factory: Attempting to register factory for plugin cuBLAS when one has already been registered\n",
      "2024-07-30 18:35:14.124901: I tensorflow/core/platform/cpu_feature_guard.cc:182] This TensorFlow binary is optimized to use available CPU instructions in performance-critical operations.\n",
      "To enable the following instructions: AVX2 FMA, in other operations, rebuild TensorFlow with the appropriate compiler flags.\n"
     ]
    }
   ],
   "source": [
    "%load_ext autoreload\n",
    "%aimport helper, project_tests\n",
    "%autoreload 1"
   ]
  },
  {
   "cell_type": "code",
   "execution_count": 4,
   "metadata": {},
   "outputs": [
    {
     "name": "stdout",
     "output_type": "stream",
     "text": [
      "keras==2.14.0\r\n",
      "tf-keras==2.14.1\r\n"
     ]
    }
   ],
   "source": [
    "# Should return keras==2.14.0 and tf-keras==2.14.1\n",
    "!pip freeze | grep keras"
   ]
  },
  {
   "cell_type": "code",
   "execution_count": 5,
   "metadata": {},
   "outputs": [
    {
     "name": "stdout",
     "output_type": "stream",
     "text": [
      "tensorflow==2.14.0\r\n",
      "tensorflow-datasets==4.9.4\r\n",
      "tensorflow-estimator==2.14.0\r\n",
      "tensorflow-hub==0.16.1\r\n",
      "tensorflow-io-gcs-filesystem==0.34.0\r\n",
      "tensorflow-metadata==1.15.0\r\n"
     ]
    }
   ],
   "source": [
    "# Should return tensorflow==2.14.0\n",
    "!pip freeze | grep tensorflow"
   ]
  },
  {
   "cell_type": "code",
   "execution_count": 6,
   "metadata": {},
   "outputs": [],
   "source": [
    "import collections\n",
    "\n",
    "import helper\n",
    "import numpy as np\n",
    "import project_tests as tests\n",
    "\n",
    "from tensorflow.keras.preprocessing.text import Tokenizer\n",
    "from keras.preprocessing.sequence import pad_sequences\n",
    "from keras.models import Model\n",
    "from tensorflow.keras.layers import GRU, Input, Dense, TimeDistributed, Activation, RepeatVector, Bidirectional\n",
    "from keras.layers import Embedding\n",
    "from keras.optimizers import Adam\n",
    "from keras.losses import sparse_categorical_crossentropy"
   ]
  },
  {
   "cell_type": "markdown",
   "metadata": {},
   "source": [
    "## Dataset\n",
    "We begin by investigating the dataset that will be used to train and evaluate your pipeline.  The most common datasets used for machine translation are from [WMT](http://www.statmt.org/).  However, that will take a long time to train a neural network on.  We'll be using a dataset we created for this project that contains a small vocabulary.  You'll be able to train your model in a reasonable time with this dataset.\n",
    "### Load Data\n",
    "The data is located in `data/small_vocab_en` and `data/small_vocab_fr`. The `small_vocab_en` file contains English sentences with their French translations in the `small_vocab_fr` file. Load the English and French data from these files from running the cell below."
   ]
  },
  {
   "cell_type": "code",
   "execution_count": 7,
   "metadata": {},
   "outputs": [
    {
     "name": "stdout",
     "output_type": "stream",
     "text": [
      "Dataset Loaded\n"
     ]
    }
   ],
   "source": [
    "# Load English data\n",
    "english_sentences = helper.load_data('data/small_vocab_en')\n",
    "# Load French data\n",
    "french_sentences = helper.load_data('data/small_vocab_fr')\n",
    "\n",
    "print('Dataset Loaded')"
   ]
  },
  {
   "cell_type": "markdown",
   "metadata": {},
   "source": [
    "### Files\n",
    "Each line in `small_vocab_en` contains an English sentence with the respective translation in each line of `small_vocab_fr`.  View the first two lines from each file."
   ]
  },
  {
   "cell_type": "code",
   "execution_count": 8,
   "metadata": {},
   "outputs": [
    {
     "name": "stdout",
     "output_type": "stream",
     "text": [
      "small_vocab_en Line 1:  new jersey is sometimes quiet during autumn , and it is snowy in april .\n",
      "small_vocab_fr Line 1:  new jersey est parfois calme pendant l' automne , et il est neigeux en avril .\n",
      "small_vocab_en Line 2:  the united states is usually chilly during july , and it is usually freezing in november .\n",
      "small_vocab_fr Line 2:  les états-unis est généralement froid en juillet , et il gèle habituellement en novembre .\n"
     ]
    }
   ],
   "source": [
    "for sample_i in range(2):\n",
    "    print('small_vocab_en Line {}:  {}'.format(sample_i + 1, english_sentences[sample_i]))\n",
    "    print('small_vocab_fr Line {}:  {}'.format(sample_i + 1, french_sentences[sample_i]))"
   ]
  },
  {
   "cell_type": "markdown",
   "metadata": {},
   "source": [
    "From looking at the sentences, you can see they have been preprocessed already.  The puncuations have been delimited using spaces. All the text have been converted to lowercase.  This should save you some time, but the text requires more preprocessing.\n",
    "### Vocabulary\n",
    "The complexity of the problem is determined by the complexity of the vocabulary.  A more complex vocabulary is a more complex problem.  Let's look at the complexity of the dataset we'll be working with."
   ]
  },
  {
   "cell_type": "code",
   "execution_count": 9,
   "metadata": {},
   "outputs": [
    {
     "name": "stdout",
     "output_type": "stream",
     "text": [
      "1823250 English words.\n",
      "227 unique English words.\n",
      "10 Most common words in the English dataset:\n",
      "\"is\" \",\" \".\" \"in\" \"it\" \"during\" \"the\" \"but\" \"and\" \"sometimes\"\n",
      "\n",
      "1961295 French words.\n",
      "355 unique French words.\n",
      "10 Most common words in the French dataset:\n",
      "\"est\" \".\" \",\" \"en\" \"il\" \"les\" \"mais\" \"et\" \"la\" \"parfois\"\n"
     ]
    }
   ],
   "source": [
    "english_words_counter = collections.Counter([word for sentence in english_sentences for word in sentence.split()])\n",
    "french_words_counter = collections.Counter([word for sentence in french_sentences for word in sentence.split()])\n",
    "\n",
    "print('{} English words.'.format(len([word for sentence in english_sentences for word in sentence.split()])))\n",
    "print('{} unique English words.'.format(len(english_words_counter)))\n",
    "print('10 Most common words in the English dataset:')\n",
    "print('\"' + '\" \"'.join(list(zip(*english_words_counter.most_common(10)))[0]) + '\"')\n",
    "print()\n",
    "print('{} French words.'.format(len([word for sentence in french_sentences for word in sentence.split()])))\n",
    "print('{} unique French words.'.format(len(french_words_counter)))\n",
    "print('10 Most common words in the French dataset:')\n",
    "print('\"' + '\" \"'.join(list(zip(*french_words_counter.most_common(10)))[0]) + '\"')"
   ]
  },
  {
   "cell_type": "markdown",
   "metadata": {},
   "source": [
    "For comparison, _Alice's Adventures in Wonderland_ contains 2,766 unique words of a total of 15,500 words.\n",
    "## Preprocess\n",
    "For this project, you won't use text data as input to your model. Instead, you'll convert the text into sequences of integers using the following preprocess methods:\n",
    "1. Tokenize the words into ids\n",
    "2. Add padding to make all the sequences the same length.\n",
    "\n",
    "Time to start preprocessing the data...\n",
    "### Tokenize (IMPLEMENTATION)\n",
    "For a neural network to predict on text data, it first has to be turned into data it can understand. Text data like \"dog\" is a sequence of ASCII character encodings.  Since a neural network is a series of multiplication and addition operations, the input data needs to be number(s).\n",
    "\n",
    "We can turn each character into a number or each word into a number.  These are called character and word ids, respectively.  Character ids are used for character level models that generate text predictions for each character.  A word level model uses word ids that generate text predictions for each word.  Word level models tend to learn better, since they are lower in complexity, so we'll use those.\n",
    "\n",
    "Turn each sentence into a sequence of words ids using Keras's [`Tokenizer`](https://keras.io/preprocessing/text/#tokenizer) function. Use this function to tokenize `english_sentences` and `french_sentences` in the cell below.\n",
    "\n",
    "Running the cell will run `tokenize` on sample data and show output for debugging."
   ]
  },
  {
   "cell_type": "code",
   "execution_count": 10,
   "metadata": {},
   "outputs": [
    {
     "name": "stdout",
     "output_type": "stream",
     "text": [
      "{'the': 1, 'quick': 2, 'a': 3, 'brown': 4, 'fox': 5, 'jumps': 6, 'over': 7, 'lazy': 8, 'dog': 9, 'by': 10, 'jove': 11, 'my': 12, 'study': 13, 'of': 14, 'lexicography': 15, 'won': 16, 'prize': 17, 'this': 18, 'is': 19, 'short': 20, 'sentence': 21}\n",
      "\n",
      "Sequence 1 in x\n",
      "  Input:  The quick brown fox jumps over the lazy dog .\n",
      "  Output: [1, 2, 4, 5, 6, 7, 1, 8, 9]\n",
      "Sequence 2 in x\n",
      "  Input:  By Jove , my quick study of lexicography won a prize .\n",
      "  Output: [10, 11, 12, 2, 13, 14, 15, 16, 3, 17]\n",
      "Sequence 3 in x\n",
      "  Input:  This is a short sentence .\n",
      "  Output: [18, 19, 3, 20, 21]\n"
     ]
    }
   ],
   "source": [
    "def tokenize(x):\n",
    "    \"\"\"\n",
    "    Tokenize x\n",
    "    :param x: List of sentences/strings to be tokenized\n",
    "    :return: Tuple of (tokenized x data, tokenizer used to tokenize x)\n",
    "    \"\"\"\n",
    "    tokenizer = Tokenizer()\n",
    "    tokenizer.fit_on_texts(x)\n",
    "\n",
    "    return tokenizer.texts_to_sequences(x), tokenizer\n",
    "tests.test_tokenize(tokenize)\n",
    "\n",
    "# Tokenize Example output\n",
    "text_sentences = [\n",
    "    'The quick brown fox jumps over the lazy dog .',\n",
    "    'By Jove , my quick study of lexicography won a prize .',\n",
    "    'This is a short sentence .']\n",
    "text_tokenized, text_tokenizer = tokenize(text_sentences)\n",
    "print(text_tokenizer.word_index)\n",
    "print()\n",
    "for sample_i, (sent, token_sent) in enumerate(zip(text_sentences, text_tokenized)):\n",
    "    print('Sequence {} in x'.format(sample_i + 1))\n",
    "    print('  Input:  {}'.format(sent))\n",
    "    print('  Output: {}'.format(token_sent))"
   ]
  },
  {
   "cell_type": "markdown",
   "metadata": {},
   "source": [
    "### Padding (IMPLEMENTATION)\n",
    "When batching the sequence of word ids together, each sequence needs to be the same length.  Since sentences are dynamic in length, we can add padding to the end of the sequences to make them the same length.\n",
    "\n",
    "Make sure all the English sequences have the same length and all the French sequences have the same length by adding padding to the **end** of each sequence using Keras's [`pad_sequences`](https://keras.io/preprocessing/sequence/#pad_sequences) function."
   ]
  },
  {
   "cell_type": "code",
   "execution_count": 11,
   "metadata": {},
   "outputs": [
    {
     "name": "stdout",
     "output_type": "stream",
     "text": [
      "Sequence 1 in x\n",
      "  Input:  [1 2 4 5 6 7 1 8 9]\n",
      "  Output: [1 2 4 5 6 7 1 8 9 0]\n",
      "Sequence 2 in x\n",
      "  Input:  [10 11 12  2 13 14 15 16  3 17]\n",
      "  Output: [10 11 12  2 13 14 15 16  3 17]\n",
      "Sequence 3 in x\n",
      "  Input:  [18 19  3 20 21]\n",
      "  Output: [18 19  3 20 21  0  0  0  0  0]\n"
     ]
    }
   ],
   "source": [
    "def pad(x, length=None):\n",
    "    \"\"\"\n",
    "    Pad x\n",
    "    :param x: List of sequences.\n",
    "    :param length: Length to pad the sequence to.  If None, use length of longest sequence in x.\n",
    "    :return: Padded numpy array of sequences\n",
    "    \"\"\"\n",
    "    if length is None:\n",
    "        length = max([len(seq) for seq in x])\n",
    "    return pad_sequences(x, maxlen=length, padding='post')\n",
    "tests.test_pad(pad)\n",
    "\n",
    "# Pad Tokenized output\n",
    "test_pad = pad(text_tokenized)\n",
    "for sample_i, (token_sent, pad_sent) in enumerate(zip(text_tokenized, test_pad)):\n",
    "    print('Sequence {} in x'.format(sample_i + 1))\n",
    "    print('  Input:  {}'.format(np.array(token_sent)))\n",
    "    print('  Output: {}'.format(pad_sent))"
   ]
  },
  {
   "cell_type": "markdown",
   "metadata": {},
   "source": [
    "### Preprocess Pipeline\n",
    "Your focus for this project is to build neural network architecture, so we won't ask you to create a preprocess pipeline.  Instead, we've provided you with the implementation of the `preprocess` function."
   ]
  },
  {
   "cell_type": "code",
   "execution_count": 12,
   "metadata": {},
   "outputs": [
    {
     "name": "stdout",
     "output_type": "stream",
     "text": [
      "Data Preprocessed\n",
      "Max English sentence length: 15\n",
      "Max French sentence length: 21\n",
      "English vocabulary size: 199\n",
      "French vocabulary size: 344\n"
     ]
    }
   ],
   "source": [
    "def preprocess(x, y):\n",
    "    \"\"\"\n",
    "    Preprocess x and y\n",
    "    :param x: Feature List of sentences\n",
    "    :param y: Label List of sentences\n",
    "    :return: Tuple of (Preprocessed x, Preprocessed y, x tokenizer, y tokenizer)\n",
    "    \"\"\"\n",
    "    preprocess_x, x_tk = tokenize(x)\n",
    "    preprocess_y, y_tk = tokenize(y)\n",
    "\n",
    "    preprocess_x = pad(preprocess_x)\n",
    "    preprocess_y = pad(preprocess_y)\n",
    "\n",
    "    # Keras's sparse_categorical_crossentropy function requires the labels to be in 3 dimensions\n",
    "    preprocess_y = preprocess_y.reshape(*preprocess_y.shape, 1)\n",
    "\n",
    "    return preprocess_x, preprocess_y, x_tk, y_tk\n",
    "\n",
    "preproc_english_sentences, preproc_french_sentences, english_tokenizer, french_tokenizer =\\\n",
    "    preprocess(english_sentences, french_sentences)\n",
    "    \n",
    "max_english_sequence_length = preproc_english_sentences.shape[1]\n",
    "max_french_sequence_length = preproc_french_sentences.shape[1]\n",
    "english_vocab_size = len(english_tokenizer.word_index)\n",
    "french_vocab_size = len(french_tokenizer.word_index)\n",
    "\n",
    "print('Data Preprocessed')\n",
    "print(\"Max English sentence length:\", max_english_sequence_length)\n",
    "print(\"Max French sentence length:\", max_french_sequence_length)\n",
    "print(\"English vocabulary size:\", english_vocab_size)\n",
    "print(\"French vocabulary size:\", french_vocab_size)"
   ]
  },
  {
   "cell_type": "markdown",
   "metadata": {},
   "source": [
    "## Models\n",
    "In this section, you will experiment with various neural network architectures.\n",
    "You will begin by training four relatively simple architectures.\n",
    "- Model 1 is a simple RNN\n",
    "- Model 2 is a RNN with Embedding\n",
    "- Model 3 is a Bidirectional RNN\n",
    "- Model 4 is an Encoder-Decoder RNN\n",
    "\n",
    "After experimenting with the four simple architectures, you will construct a deeper architecture that is designed to outperform all four models.\n",
    "### Ids Back to Text\n",
    "The neural network will be translating the input to words ids, which isn't the final form we want.  We want the French translation.  The function `logits_to_text` will bridge the gab between the logits from the neural network to the French translation.  You'll be using this function to better understand the output of the neural network."
   ]
  },
  {
   "cell_type": "code",
   "execution_count": 13,
   "metadata": {},
   "outputs": [
    {
     "name": "stdout",
     "output_type": "stream",
     "text": [
      "`logits_to_text` function loaded.\n"
     ]
    }
   ],
   "source": [
    "def logits_to_text(logits, tokenizer):\n",
    "    \"\"\"\n",
    "    Turn logits from a neural network into text using the tokenizer\n",
    "    :param logits: Logits from a neural network\n",
    "    :param tokenizer: Keras Tokenizer fit on the labels\n",
    "    :return: String that represents the text of the logits\n",
    "    \"\"\"\n",
    "    index_to_words = {id: word for word, id in tokenizer.word_index.items()}\n",
    "    index_to_words[0] = '<PAD>'\n",
    "\n",
    "    return ' '.join([index_to_words[prediction] for prediction in np.argmax(logits, 1)])\n",
    "\n",
    "print('`logits_to_text` function loaded.')"
   ]
  },
  {
   "cell_type": "code",
   "execution_count": 14,
   "metadata": {},
   "outputs": [],
   "source": [
    "BATCH_SIZE = 64\n",
    "EPOCH = 10"
   ]
  },
  {
   "cell_type": "markdown",
   "metadata": {},
   "source": [
    "### Model 1: RNN (IMPLEMENTATION)\n",
    "![RNN](images/rnn.png)\n",
    "A basic RNN model is a good baseline for sequence data.  In this model, you'll build a RNN that translates English to French."
   ]
  },
  {
   "cell_type": "code",
   "execution_count": 15,
   "metadata": {},
   "outputs": [
    {
     "name": "stderr",
     "output_type": "stream",
     "text": [
      "2024-07-30 18:35:31.253483: I tensorflow/compiler/xla/stream_executor/cuda/cuda_gpu_executor.cc:894] successful NUMA node read from SysFS had negative value (-1), but there must be at least one NUMA node, so returning NUMA node zero. See more at https://github.com/torvalds/linux/blob/v6.0/Documentation/ABI/testing/sysfs-bus-pci#L344-L355\n",
      "2024-07-30 18:35:31.265175: I tensorflow/compiler/xla/stream_executor/cuda/cuda_gpu_executor.cc:894] successful NUMA node read from SysFS had negative value (-1), but there must be at least one NUMA node, so returning NUMA node zero. See more at https://github.com/torvalds/linux/blob/v6.0/Documentation/ABI/testing/sysfs-bus-pci#L344-L355\n",
      "2024-07-30 18:35:31.268524: I tensorflow/compiler/xla/stream_executor/cuda/cuda_gpu_executor.cc:894] successful NUMA node read from SysFS had negative value (-1), but there must be at least one NUMA node, so returning NUMA node zero. See more at https://github.com/torvalds/linux/blob/v6.0/Documentation/ABI/testing/sysfs-bus-pci#L344-L355\n",
      "2024-07-30 18:35:31.274778: I tensorflow/compiler/xla/stream_executor/cuda/cuda_gpu_executor.cc:894] successful NUMA node read from SysFS had negative value (-1), but there must be at least one NUMA node, so returning NUMA node zero. See more at https://github.com/torvalds/linux/blob/v6.0/Documentation/ABI/testing/sysfs-bus-pci#L344-L355\n",
      "2024-07-30 18:35:31.278181: I tensorflow/compiler/xla/stream_executor/cuda/cuda_gpu_executor.cc:894] successful NUMA node read from SysFS had negative value (-1), but there must be at least one NUMA node, so returning NUMA node zero. See more at https://github.com/torvalds/linux/blob/v6.0/Documentation/ABI/testing/sysfs-bus-pci#L344-L355\n",
      "2024-07-30 18:35:31.281451: I tensorflow/compiler/xla/stream_executor/cuda/cuda_gpu_executor.cc:894] successful NUMA node read from SysFS had negative value (-1), but there must be at least one NUMA node, so returning NUMA node zero. See more at https://github.com/torvalds/linux/blob/v6.0/Documentation/ABI/testing/sysfs-bus-pci#L344-L355\n",
      "2024-07-30 18:35:31.603481: I tensorflow/compiler/xla/stream_executor/cuda/cuda_gpu_executor.cc:894] successful NUMA node read from SysFS had negative value (-1), but there must be at least one NUMA node, so returning NUMA node zero. See more at https://github.com/torvalds/linux/blob/v6.0/Documentation/ABI/testing/sysfs-bus-pci#L344-L355\n",
      "2024-07-30 18:35:31.605660: I tensorflow/compiler/xla/stream_executor/cuda/cuda_gpu_executor.cc:894] successful NUMA node read from SysFS had negative value (-1), but there must be at least one NUMA node, so returning NUMA node zero. See more at https://github.com/torvalds/linux/blob/v6.0/Documentation/ABI/testing/sysfs-bus-pci#L344-L355\n",
      "2024-07-30 18:35:31.607739: I tensorflow/compiler/xla/stream_executor/cuda/cuda_gpu_executor.cc:894] successful NUMA node read from SysFS had negative value (-1), but there must be at least one NUMA node, so returning NUMA node zero. See more at https://github.com/torvalds/linux/blob/v6.0/Documentation/ABI/testing/sysfs-bus-pci#L344-L355\n",
      "2024-07-30 18:35:31.609688: I tensorflow/core/common_runtime/gpu/gpu_device.cc:1886] Created device /job:localhost/replica:0/task:0/device:GPU:0 with 13764 MB memory:  -> device: 0, name: Tesla T4, pci bus id: 0000:00:05.0, compute capability: 7.5\n"
     ]
    },
    {
     "name": "stdout",
     "output_type": "stream",
     "text": [
      "Epoch 1/10\n"
     ]
    },
    {
     "name": "stderr",
     "output_type": "stream",
     "text": [
      "2024-07-30 18:35:35.151954: I tensorflow/compiler/xla/stream_executor/cuda/cuda_dnn.cc:442] Loaded cuDNN version 8600\n",
      "2024-07-30 18:35:38.842509: I tensorflow/compiler/xla/service/service.cc:168] XLA service 0x796d84070240 initialized for platform CUDA (this does not guarantee that XLA will be used). Devices:\n",
      "2024-07-30 18:35:38.842590: I tensorflow/compiler/xla/service/service.cc:176]   StreamExecutor device (0): Tesla T4, Compute Capability 7.5\n",
      "2024-07-30 18:35:38.848520: I tensorflow/compiler/mlir/tensorflow/utils/dump_mlir_util.cc:269] disabling MLIR crash reproducer, set env var `MLIR_CRASH_REPRODUCER_DIRECTORY` to enable.\n",
      "2024-07-30 18:35:39.008463: I ./tensorflow/compiler/jit/device_compiler.h:186] Compiled cluster using XLA!  This line is logged at most once for the lifetime of the process.\n"
     ]
    },
    {
     "name": "stdout",
     "output_type": "stream",
     "text": [
      "1724/1724 [==============================] - 22s 9ms/step - loss: 1.5542 - accuracy: 0.6071 - val_loss: nan - val_accuracy: 0.6556\n",
      "Epoch 2/10\n",
      "1724/1724 [==============================] - 15s 8ms/step - loss: 1.1300 - accuracy: 0.6616 - val_loss: nan - val_accuracy: 0.6685\n",
      "Epoch 3/10\n",
      "1724/1724 [==============================] - 14s 8ms/step - loss: 1.0376 - accuracy: 0.6735 - val_loss: nan - val_accuracy: 0.6775\n",
      "Epoch 4/10\n",
      "1724/1724 [==============================] - 15s 8ms/step - loss: 0.9816 - accuracy: 0.6844 - val_loss: nan - val_accuracy: 0.6877\n",
      "Epoch 5/10\n",
      "1724/1724 [==============================] - 14s 8ms/step - loss: 0.9219 - accuracy: 0.7069 - val_loss: nan - val_accuracy: 0.7195\n",
      "Epoch 6/10\n",
      "1724/1724 [==============================] - 14s 8ms/step - loss: 0.8623 - accuracy: 0.7269 - val_loss: nan - val_accuracy: 0.7287\n",
      "Epoch 7/10\n",
      "1724/1724 [==============================] - 14s 8ms/step - loss: 0.8213 - accuracy: 0.7403 - val_loss: nan - val_accuracy: 0.7483\n",
      "Epoch 8/10\n",
      "1724/1724 [==============================] - 14s 8ms/step - loss: 0.7909 - accuracy: 0.7501 - val_loss: nan - val_accuracy: 0.7618\n",
      "Epoch 9/10\n",
      "1724/1724 [==============================] - 15s 9ms/step - loss: 0.7656 - accuracy: 0.7571 - val_loss: nan - val_accuracy: 0.7566\n",
      "Epoch 10/10\n",
      "1724/1724 [==============================] - 14s 8ms/step - loss: 0.7454 - accuracy: 0.7632 - val_loss: nan - val_accuracy: 0.7663\n",
      "1/1 [==============================] - 0s 424ms/step\n",
      "new jersey est parfois chaud en mois de il est est en en <PAD> <PAD> <PAD> <PAD> <PAD> <PAD> <PAD> <PAD>\n"
     ]
    }
   ],
   "source": [
    "def simple_model(input_shape, output_sequence_length, english_vocab_size, french_vocab_size):\n",
    "    \"\"\"\n",
    "    Build and train a basic RNN on x and y\n",
    "    :param input_shape: Tuple of input shape\n",
    "    :param output_sequence_length: Length of output sequence\n",
    "    :param english_vocab_size: Number of unique English words in the dataset\n",
    "    :param french_vocab_size: Number of unique French words in the dataset\n",
    "    :return: Keras model built, but not trained\n",
    "    \"\"\"\n",
    "    # Hyperparameters\n",
    "    learning_rate = 0.001\n",
    "    gru_units = 128\n",
    "    activation = 'tanh'\n",
    "    \n",
    "    # Model architecture\n",
    "    input_seq = Input(shape=input_shape[1:])\n",
    "    rnn = GRU(gru_units, return_sequences=True)(input_seq)\n",
    "    logits = TimeDistributed(Dense(french_vocab_size, activation='softmax'))(rnn)\n",
    "    output = Activation(activation)(logits)\n",
    "\n",
    "    model = Model(input_seq, output)\n",
    "    \n",
    "    model.compile(loss=sparse_categorical_crossentropy,\n",
    "                  optimizer=Adam(learning_rate),\n",
    "                  metrics=['accuracy'])\n",
    "    return model\n",
    "tests.test_simple_model(simple_model)\n",
    "\n",
    "# Reshaping the input to work with a basic RNN\n",
    "tmp_x = pad(preproc_english_sentences, max_french_sequence_length)\n",
    "tmp_x = tmp_x.reshape((-1, preproc_french_sentences.shape[-2], 1))\n",
    "\n",
    "# Train the neural network\n",
    "simple_rnn_model = simple_model(\n",
    "    tmp_x.shape,\n",
    "    max_french_sequence_length,\n",
    "    english_vocab_size,\n",
    "    french_vocab_size)\n",
    "simple_rnn_model.fit(tmp_x, preproc_french_sentences, batch_size=BATCH_SIZE, epochs=EPOCH, validation_split=0.2)\n",
    "\n",
    "# Print prediction(s)\n",
    "print(logits_to_text(simple_rnn_model.predict(tmp_x[:1])[0], french_tokenizer))"
   ]
  },
  {
   "cell_type": "markdown",
   "metadata": {},
   "source": [
    "### Model 2: Embedding (IMPLEMENTATION)\n",
    "![RNN](images/embedding.png)\n",
    "You've turned the words into ids, but there's a better representation of a word.  This is called word embeddings.  An embedding is a vector representation of the word that is close to similar words in n-dimensional space, where the n represents the size of the embedding vectors.\n",
    "\n",
    "In this model, you'll create a RNN model using embedding."
   ]
  },
  {
   "cell_type": "code",
   "execution_count": 16,
   "metadata": {},
   "outputs": [
    {
     "name": "stdout",
     "output_type": "stream",
     "text": [
      "Epoch 1/10\n",
      "1724/1724 [==============================] - 25s 13ms/step - loss: 0.9897 - accuracy: 0.7616 - val_loss: nan - val_accuracy: 0.8719\n",
      "Epoch 2/10\n",
      "1724/1724 [==============================] - 18s 10ms/step - loss: 0.3425 - accuracy: 0.8925 - val_loss: nan - val_accuracy: 0.9047\n",
      "Epoch 3/10\n",
      "1724/1724 [==============================] - 18s 10ms/step - loss: 0.2702 - accuracy: 0.9122 - val_loss: nan - val_accuracy: 0.9166\n",
      "Epoch 4/10\n",
      "1724/1724 [==============================] - 18s 10ms/step - loss: 0.2395 - accuracy: 0.9207 - val_loss: nan - val_accuracy: 0.9236\n",
      "Epoch 5/10\n",
      "1724/1724 [==============================] - 18s 10ms/step - loss: 0.2212 - accuracy: 0.9256 - val_loss: nan - val_accuracy: 0.9267\n",
      "Epoch 6/10\n",
      "1724/1724 [==============================] - 18s 10ms/step - loss: 0.2088 - accuracy: 0.9286 - val_loss: nan - val_accuracy: 0.9277\n",
      "Epoch 7/10\n",
      "1724/1724 [==============================] - 18s 11ms/step - loss: 0.2021 - accuracy: 0.9303 - val_loss: nan - val_accuracy: 0.9282\n",
      "Epoch 8/10\n",
      "1724/1724 [==============================] - 18s 11ms/step - loss: 0.1950 - accuracy: 0.9322 - val_loss: nan - val_accuracy: 0.9308\n",
      "Epoch 9/10\n",
      "1724/1724 [==============================] - 18s 11ms/step - loss: 0.1902 - accuracy: 0.9335 - val_loss: nan - val_accuracy: 0.9308\n",
      "Epoch 10/10\n",
      "1724/1724 [==============================] - 19s 11ms/step - loss: 0.1867 - accuracy: 0.9342 - val_loss: nan - val_accuracy: 0.9322\n",
      "1/1 [==============================] - 0s 444ms/step\n",
      "new jersey est parfois calme en l' automne et il neigeux neigeux en avril <PAD> <PAD> <PAD> <PAD> <PAD> <PAD> <PAD>\n"
     ]
    }
   ],
   "source": [
    "def embed_model(input_shape, output_sequence_length, english_vocab_size, french_vocab_size):\n",
    "    \"\"\"\n",
    "    Build and train a RNN model using word embedding on x and y\n",
    "    :param input_shape: Tuple of input shape\n",
    "    :param output_sequence_length: Length of output sequence\n",
    "    :param english_vocab_size: Number of unique English words in the dataset\n",
    "    :param french_vocab_size: Number of unique French words in the dataset\n",
    "    :return: Keras model built, but not trained\n",
    "    \"\"\"\n",
    "    # TODO: Implement\n",
    "    # Hyperparameters\n",
    "    learning_rate = 0.001\n",
    "    gru_units = 128\n",
    "    embedding_dim = 128\n",
    "    activation = 'tanh'\n",
    "\n",
    "    # Model architecture\n",
    "    input_seq = Input(shape=input_shape[1:])\n",
    "    embedding = Embedding(english_vocab_size, embedding_dim)(input_seq)\n",
    "    rnn = GRU(gru_units, return_sequences=True)(embedding)\n",
    "    logits = TimeDistributed(Dense(french_vocab_size, activation='softmax'))(rnn)    \n",
    "    output = Activation(activation)(logits)\n",
    "\n",
    "    model = Model(input_seq, output)\n",
    "    model.compile(loss=sparse_categorical_crossentropy,\n",
    "                    optimizer=Adam(learning_rate),\n",
    "                    metrics=['accuracy'])\n",
    "    return model\n",
    "\n",
    "\n",
    "\n",
    "tests.test_embed_model(embed_model)\n",
    "\n",
    "\n",
    "# TODO: Reshape the input\n",
    "tmp_x = pad(preproc_english_sentences, max_french_sequence_length)\n",
    "tmp_x = tmp_x.reshape((-1, preproc_french_sentences.shape[-2]))\n",
    "\n",
    "# TODO: Train the neural network\n",
    "embed_rnn_model = embed_model(\n",
    "    tmp_x.shape,\n",
    "    max_french_sequence_length,\n",
    "    english_vocab_size,\n",
    "    french_vocab_size)\n",
    "embed_rnn_model.fit(tmp_x, preproc_french_sentences, batch_size=BATCH_SIZE, epochs=EPOCH, validation_split=0.2)\n",
    "\n",
    "# TODO: Print prediction(s)\n",
    "print(logits_to_text(embed_rnn_model.predict(tmp_x[:1])[0], french_tokenizer))"
   ]
  },
  {
   "cell_type": "markdown",
   "metadata": {},
   "source": [
    "### Model 3: Bidirectional RNNs (IMPLEMENTATION)\n",
    "![RNN](images/bidirectional.png)\n",
    "One restriction of a RNN is that it can't see the future input, only the past.  This is where bidirectional recurrent neural networks come in.  They are able to see the future data."
   ]
  },
  {
   "cell_type": "code",
   "execution_count": 17,
   "metadata": {},
   "outputs": [
    {
     "name": "stdout",
     "output_type": "stream",
     "text": [
      "Epoch 1/10\n",
      "1724/1724 [==============================] - 30s 15ms/step - loss: 1.3117 - accuracy: 0.6451 - val_loss: nan - val_accuracy: 0.6854\n",
      "Epoch 2/10\n",
      "1724/1724 [==============================] - 24s 14ms/step - loss: 0.9612 - accuracy: 0.6963 - val_loss: nan - val_accuracy: 0.7067\n",
      "Epoch 3/10\n",
      "1724/1724 [==============================] - 24s 14ms/step - loss: 0.8706 - accuracy: 0.7095 - val_loss: nan - val_accuracy: 0.7157\n",
      "Epoch 4/10\n",
      "1724/1724 [==============================] - 24s 14ms/step - loss: 0.8182 - accuracy: 0.7189 - val_loss: nan - val_accuracy: 0.7244\n",
      "Epoch 5/10\n",
      "1724/1724 [==============================] - 24s 14ms/step - loss: 0.7770 - accuracy: 0.7283 - val_loss: nan - val_accuracy: 0.7357\n",
      "Epoch 6/10\n",
      "1724/1724 [==============================] - 24s 14ms/step - loss: 0.7438 - accuracy: 0.7383 - val_loss: nan - val_accuracy: 0.7395\n",
      "Epoch 7/10\n",
      "1724/1724 [==============================] - 25s 14ms/step - loss: 0.7083 - accuracy: 0.7522 - val_loss: nan - val_accuracy: 0.7602\n",
      "Epoch 8/10\n",
      "1724/1724 [==============================] - 24s 14ms/step - loss: 0.6678 - accuracy: 0.7698 - val_loss: nan - val_accuracy: 0.7734\n",
      "Epoch 9/10\n",
      "1724/1724 [==============================] - 23s 13ms/step - loss: 0.6343 - accuracy: 0.7829 - val_loss: nan - val_accuracy: 0.7894\n",
      "Epoch 10/10\n",
      "1724/1724 [==============================] - 23s 13ms/step - loss: 0.6060 - accuracy: 0.7943 - val_loss: nan - val_accuracy: 0.7982\n",
      "1/1 [==============================] - 1s 765ms/step\n",
      "new jersey est parfois calme pendant l' de il est est en en <PAD> <PAD> <PAD> <PAD> <PAD> <PAD> <PAD> <PAD>\n"
     ]
    }
   ],
   "source": [
    "def bd_model(input_shape, output_sequence_length, english_vocab_size, french_vocab_size):\n",
    "    \"\"\"\n",
    "    Build and train a bidirectional RNN model on x and y\n",
    "    :param input_shape: Tuple of input shape\n",
    "    :param output_sequence_length: Length of output sequence\n",
    "    :param english_vocab_size: Number of unique English words in the dataset\n",
    "    :param french_vocab_size: Number of unique French words in the dataset\n",
    "    :return: Keras model built, but not trained\n",
    "    \"\"\"\n",
    "    # TODO: Implement\n",
    "    # Hyperparameters\n",
    "    learning_rate = 0.001\n",
    "    gru_units = 128\n",
    "    activation = 'tanh'\n",
    "\n",
    "    # Model architecture\n",
    "    input_seq = Input(shape=input_shape[1:])\n",
    "    rnn = Bidirectional(GRU(gru_units, return_sequences=True))(input_seq)\n",
    "    logits = TimeDistributed(Dense(french_vocab_size, activation='softmax'))(rnn)\n",
    "    output = Activation(activation)(logits)\n",
    "\n",
    "    model = Model(input_seq, output)\n",
    "    model.compile(loss=sparse_categorical_crossentropy,\n",
    "                    optimizer=Adam(learning_rate),\n",
    "                    metrics=['accuracy'])\n",
    "    return model\n",
    "\n",
    "\n",
    "tests.test_bd_model(bd_model)\n",
    "\n",
    "\n",
    "# TODO: Train and Print prediction(s)\n",
    "tmp_x = pad(preproc_english_sentences, max_french_sequence_length)\n",
    "tmp_x = tmp_x.reshape((-1, preproc_french_sentences.shape[-2], 1)) # Reshaping to work with bidirectional RNN\n",
    "\n",
    "bd_rnn_model = bd_model(\n",
    "    tmp_x.shape,\n",
    "    max_french_sequence_length,\n",
    "    english_vocab_size,\n",
    "    french_vocab_size)\n",
    "bd_rnn_model.fit(tmp_x, preproc_french_sentences, batch_size=BATCH_SIZE, epochs=EPOCH, validation_split=0.2)\n",
    "\n",
    "print(logits_to_text(bd_rnn_model.predict(tmp_x[:1])[0], french_tokenizer))"
   ]
  },
  {
   "cell_type": "markdown",
   "metadata": {},
   "source": [
    "### Model 4: Encoder-Decoder (IMPLEMENTATION)\n",
    "Time to look at encoder-decoder models.  This model is made up of an encoder and decoder. The encoder creates a matrix representation of the sentence.  The decoder takes this matrix as input and predicts the translation as output.\n",
    "\n",
    "Create an encoder-decoder model in the cell below."
   ]
  },
  {
   "cell_type": "code",
   "execution_count": 18,
   "metadata": {},
   "outputs": [
    {
     "name": "stdout",
     "output_type": "stream",
     "text": [
      "Epoch 1/10\n",
      "1724/1724 [==============================] - 29s 14ms/step - loss: 1.9065 - accuracy: 0.5457 - val_loss: nan - val_accuracy: 0.6059\n",
      "Epoch 2/10\n",
      "1724/1724 [==============================] - 22s 13ms/step - loss: 1.3316 - accuracy: 0.6247 - val_loss: nan - val_accuracy: 0.6344\n",
      "Epoch 3/10\n",
      "1724/1724 [==============================] - 21s 12ms/step - loss: 1.2053 - accuracy: 0.6453 - val_loss: nan - val_accuracy: 0.6515\n",
      "Epoch 4/10\n",
      "1724/1724 [==============================] - 21s 12ms/step - loss: 1.1184 - accuracy: 0.6610 - val_loss: nan - val_accuracy: 0.6732\n",
      "Epoch 5/10\n",
      "1724/1724 [==============================] - 21s 12ms/step - loss: 1.0349 - accuracy: 0.6771 - val_loss: nan - val_accuracy: 0.6842\n",
      "Epoch 6/10\n",
      "1724/1724 [==============================] - 21s 12ms/step - loss: 0.9661 - accuracy: 0.6913 - val_loss: nan - val_accuracy: 0.6940\n",
      "Epoch 7/10\n",
      "1724/1724 [==============================] - 21s 12ms/step - loss: 0.9090 - accuracy: 0.7019 - val_loss: nan - val_accuracy: 0.7051\n",
      "Epoch 8/10\n",
      "1724/1724 [==============================] - 21s 12ms/step - loss: 0.8647 - accuracy: 0.7133 - val_loss: nan - val_accuracy: 0.7222\n",
      "Epoch 9/10\n",
      "1724/1724 [==============================] - 22s 13ms/step - loss: 0.8365 - accuracy: 0.7192 - val_loss: nan - val_accuracy: 0.7278\n",
      "Epoch 10/10\n",
      "1724/1724 [==============================] - 21s 12ms/step - loss: 0.7937 - accuracy: 0.7306 - val_loss: nan - val_accuracy: 0.7380\n",
      "1/1 [==============================] - 1s 721ms/step\n",
      "new jersey est généralement chaud au mois de il est il est avril en <PAD> <PAD> <PAD> <PAD> <PAD> <PAD> <PAD>\n"
     ]
    }
   ],
   "source": [
    "def encdec_model(input_shape, output_sequence_length, english_vocab_size, french_vocab_size):\n",
    "    \"\"\"\n",
    "    Build and train an encoder-decoder model on x and y\n",
    "    :param input_shape: Tuple of input shape\n",
    "    :param output_sequence_length: Length of output sequence\n",
    "    :param english_vocab_size: Number of unique English words in the dataset\n",
    "    :param french_vocab_size: Number of unique French words in the dataset\n",
    "    :return: Keras model built, but not trained\n",
    "    \"\"\"\n",
    "    # TODO: Implement\n",
    "    # Hyperparameters\n",
    "    learning_rate = 0.001\n",
    "    gru_units = 128\n",
    "    activation = 'tanh'\n",
    "\n",
    "    # Model architecture\n",
    "    input_seq = Input(shape=input_shape[1:])\n",
    "    encoder = GRU(gru_units)(input_seq)\n",
    "    encoder = RepeatVector(output_sequence_length)(encoder)\n",
    "    decoder = GRU(gru_units, return_sequences=True)(encoder)\n",
    "    logits = TimeDistributed(Dense(french_vocab_size, activation='softmax'))(decoder)\n",
    "    output = Activation(activation)(logits)\n",
    "\n",
    "    model = Model(input_seq, output)\n",
    "    model.compile(loss=sparse_categorical_crossentropy,\n",
    "                    optimizer=Adam(learning_rate),\n",
    "                    metrics=['accuracy'])\n",
    "    return model\n",
    "tests.test_encdec_model(encdec_model)\n",
    "\n",
    "\n",
    "# TODO: Train and Print prediction(s)\n",
    "tmp_x = pad(preproc_english_sentences, max_french_sequence_length)\n",
    "tmp_x = tmp_x.reshape((-1, preproc_french_sentences.shape[-2], 1)) # Reshaping to work with encoder-decoder model\n",
    "\n",
    "encdec_rnn_model = encdec_model(\n",
    "    tmp_x.shape,\n",
    "    max_french_sequence_length,\n",
    "    english_vocab_size,\n",
    "    french_vocab_size)\n",
    "\n",
    "encdec_rnn_model.fit(tmp_x, preproc_french_sentences, batch_size=BATCH_SIZE, epochs=EPOCH, validation_split=0.2)\n",
    "\n",
    "print(logits_to_text(encdec_rnn_model.predict(tmp_x[:1])[0], french_tokenizer))"
   ]
  },
  {
   "cell_type": "markdown",
   "metadata": {},
   "source": [
    "### Model 5: Custom (IMPLEMENTATION)\n",
    "Use everything you learned from the previous models to create a model that incorporates embedding and a bidirectional rnn into one model."
   ]
  },
  {
   "cell_type": "code",
   "execution_count": 19,
   "metadata": {},
   "outputs": [
    {
     "name": "stdout",
     "output_type": "stream",
     "text": [
      "Final Model Loaded\n",
      "Epoch 1/10\n",
      "1724/1724 [==============================] - 52s 25ms/step - loss: 1.2689 - accuracy: 0.6745 - val_loss: nan - val_accuracy: 0.7490\n",
      "Epoch 2/10\n",
      "1724/1724 [==============================] - 38s 22ms/step - loss: 0.6449 - accuracy: 0.8097 - val_loss: nan - val_accuracy: 0.8531\n",
      "Epoch 3/10\n",
      "1724/1724 [==============================] - 38s 22ms/step - loss: 0.3944 - accuracy: 0.8837 - val_loss: nan - val_accuracy: 0.9144\n",
      "Epoch 4/10\n",
      "1724/1724 [==============================] - 37s 22ms/step - loss: 0.2378 - accuracy: 0.9322 - val_loss: nan - val_accuracy: 0.9460\n",
      "Epoch 5/10\n",
      "1724/1724 [==============================] - 38s 22ms/step - loss: 0.1661 - accuracy: 0.9514 - val_loss: nan - val_accuracy: 0.9563\n",
      "Epoch 6/10\n",
      "1724/1724 [==============================] - 37s 22ms/step - loss: 0.1305 - accuracy: 0.9611 - val_loss: nan - val_accuracy: 0.9517\n",
      "Epoch 7/10\n",
      "1724/1724 [==============================] - 38s 22ms/step - loss: 0.1163 - accuracy: 0.9642 - val_loss: nan - val_accuracy: 0.9659\n",
      "Epoch 8/10\n",
      "1724/1724 [==============================] - 38s 22ms/step - loss: 0.0991 - accuracy: 0.9694 - val_loss: nan - val_accuracy: 0.9658\n",
      "Epoch 9/10\n",
      "1724/1724 [==============================] - 38s 22ms/step - loss: 0.0832 - accuracy: 0.9744 - val_loss: nan - val_accuracy: 0.9717\n",
      "Epoch 10/10\n",
      "1724/1724 [==============================] - 36s 21ms/step - loss: 0.0819 - accuracy: 0.9749 - val_loss: nan - val_accuracy: 0.9741\n",
      "WARNING:tensorflow:5 out of the last 5 calls to <function Model.make_predict_function.<locals>.predict_function at 0x796ffb600a40> triggered tf.function retracing. Tracing is expensive and the excessive number of tracings could be due to (1) creating @tf.function repeatedly in a loop, (2) passing tensors with different shapes, (3) passing Python objects instead of tensors. For (1), please define your @tf.function outside of the loop. For (2), @tf.function has reduce_retracing=True option that can avoid unnecessary retracing. For (3), please refer to https://www.tensorflow.org/guide/function#controlling_retracing and https://www.tensorflow.org/api_docs/python/tf/function for  more details.\n",
      "1/1 [==============================] - 1s 1s/step\n",
      "new jersey est parfois calme pendant l' automne et il est neigeux en avril <PAD> <PAD> <PAD> <PAD> <PAD> <PAD> <PAD>\n"
     ]
    }
   ],
   "source": [
    "def model_final(input_shape, output_sequence_length, english_vocab_size, french_vocab_size):\n",
    "    \"\"\"\n",
    "    Build and train a model that incorporates embedding, encoder-decoder, and bidirectional RNN on x and y\n",
    "    :param input_shape: Tuple of input shape\n",
    "    :param output_sequence_length: Length of output sequence\n",
    "    :param english_vocab_size: Number of unique English words in the dataset\n",
    "    :param french_vocab_size: Number of unique French words in the dataset\n",
    "    :return: Keras model built, but not trained\n",
    "    \"\"\"\n",
    "    # TODO: Implement\n",
    "    # Hyperparameters\n",
    "    learning_rate = 0.001\n",
    "    gru_units = 128\n",
    "    embedding_dim = 128\n",
    "    activation = 'tanh'\n",
    "\n",
    "    # Model architecture\n",
    "    input_seq = Input(shape=input_shape[1:])\n",
    "    embedding = Embedding(english_vocab_size, embedding_dim)(input_seq)\n",
    "    encoder = Bidirectional(GRU(gru_units))(embedding)\n",
    "    encoder = RepeatVector(output_sequence_length)(encoder)\n",
    "    decoder = Bidirectional(GRU(gru_units, return_sequences=True))(encoder)\n",
    "    logits = TimeDistributed(Dense(french_vocab_size, activation='softmax'))(decoder)\n",
    "    output = Activation(activation)(logits)\n",
    "\n",
    "    model = Model(input_seq, output)\n",
    "    model.compile(loss=sparse_categorical_crossentropy,\n",
    "                    optimizer=Adam(learning_rate),\n",
    "                    metrics=['accuracy'])\n",
    "    return model\n",
    "\n",
    "tests.test_model_final(model_final)\n",
    "\n",
    "\n",
    "print('Final Model Loaded')\n",
    "# TODO: Train the final model\n",
    "tmp_x = pad(preproc_english_sentences, max_french_sequence_length)\n",
    "tmp_x = tmp_x.reshape((-1, preproc_french_sentences.shape[-2]))\n",
    "\n",
    "final_rnn_model = model_final(\n",
    "    tmp_x.shape,\n",
    "    max_french_sequence_length,\n",
    "    english_vocab_size,\n",
    "    french_vocab_size)\n",
    "\n",
    "final_rnn_model.fit(tmp_x, preproc_french_sentences, batch_size=BATCH_SIZE, epochs=EPOCH, validation_split=0.2)\n",
    "\n",
    "# Print prediction(s)\n",
    "print(logits_to_text(final_rnn_model.predict(tmp_x[:1])[0], french_tokenizer))"
   ]
  },
  {
   "cell_type": "markdown",
   "metadata": {},
   "source": [
    "## Prediction (IMPLEMENTATION)"
   ]
  },
  {
   "cell_type": "code",
   "execution_count": 22,
   "metadata": {
    "scrolled": false
   },
   "outputs": [
    {
     "name": "stdout",
     "output_type": "stream",
     "text": [
      "Epoch 1/10\n",
      "1724/1724 [==============================] - 50s 24ms/step - loss: 1.2544 - accuracy: 0.6753 - val_loss: 0.7743 - val_accuracy: 0.7720\n",
      "Epoch 2/10\n",
      "1724/1724 [==============================] - 35s 20ms/step - loss: 0.6057 - accuracy: 0.8177 - val_loss: 0.5269 - val_accuracy: 0.8395\n",
      "Epoch 3/10\n",
      "1724/1724 [==============================] - 35s 20ms/step - loss: 0.3333 - accuracy: 0.9016 - val_loss: 0.2439 - val_accuracy: 0.9291\n",
      "Epoch 4/10\n",
      "1724/1724 [==============================] - 36s 21ms/step - loss: 0.1949 - accuracy: 0.9429 - val_loss: 0.1660 - val_accuracy: 0.9502\n",
      "Epoch 5/10\n",
      "1724/1724 [==============================] - 35s 21ms/step - loss: 0.1429 - accuracy: 0.9566 - val_loss: 0.1359 - val_accuracy: 0.9586\n",
      "Epoch 6/10\n",
      "1724/1724 [==============================] - 35s 21ms/step - loss: 0.1198 - accuracy: 0.9630 - val_loss: 0.1335 - val_accuracy: 0.9579\n",
      "Epoch 7/10\n",
      "1724/1724 [==============================] - 36s 21ms/step - loss: 0.1058 - accuracy: 0.9672 - val_loss: 0.1058 - val_accuracy: 0.9676\n",
      "Epoch 8/10\n",
      "1724/1724 [==============================] - 37s 21ms/step - loss: 0.0883 - accuracy: 0.9723 - val_loss: 0.1050 - val_accuracy: 0.9678\n",
      "Epoch 9/10\n",
      "1724/1724 [==============================] - 35s 21ms/step - loss: 0.0805 - accuracy: 0.9749 - val_loss: 0.0919 - val_accuracy: 0.9726\n",
      "Epoch 10/10\n",
      "1724/1724 [==============================] - 35s 20ms/step - loss: 0.0714 - accuracy: 0.9777 - val_loss: 0.0845 - val_accuracy: 0.9754\n",
      "1/1 [==============================] - 1s 1s/step\n",
      "Sample 1:\n",
      "il a vu un vieux camion jaune <PAD> <PAD> <PAD> <PAD> <PAD> <PAD> <PAD> <PAD> <PAD> <PAD> <PAD> <PAD> <PAD> <PAD>\n",
      "Il a vu un vieux camion jaune\n",
      "Sample 2:\n",
      "new jersey est parfois calme pendant l' automne et il est neigeux en avril <PAD> <PAD> <PAD> <PAD> <PAD> <PAD> <PAD>\n",
      "new jersey est parfois calme pendant l' automne et il est neigeux en avril <PAD> <PAD> <PAD> <PAD> <PAD> <PAD> <PAD>\n"
     ]
    }
   ],
   "source": [
    "def final_predictions(x, y, x_tk, y_tk):\n",
    "    \"\"\"\n",
    "    Gets predictions using the final model\n",
    "    :param x: Preprocessed English data\n",
    "    :param y: Preprocessed French data\n",
    "    :param x_tk: English tokenizer\n",
    "    :param y_tk: French tokenizer\n",
    "    \"\"\"\n",
    "    # TODO: Train neural network using model_final\n",
    "    model = model_final(x.shape, y.shape[1], len(x_tk.word_index)+1, len(y_tk.word_index)+1)\n",
    "    model.fit(x, y, batch_size=BATCH_SIZE, epochs=EPOCH, validation_split=0.2)\n",
    "\n",
    "    \n",
    "    ## DON'T EDIT ANYTHING BELOW THIS LINE\n",
    "    y_id_to_word = {value: key for key, value in y_tk.word_index.items()}\n",
    "    y_id_to_word[0] = '<PAD>'\n",
    "\n",
    "    sentence = 'he saw a old yellow truck'\n",
    "    sentence = [x_tk.word_index[word] for word in sentence.split()]\n",
    "    sentence = pad_sequences([sentence], maxlen=x.shape[-1], padding='post')\n",
    "    sentences = np.array([sentence[0], x[0]])\n",
    "    predictions = model.predict(sentences, len(sentences))\n",
    "\n",
    "    print('Sample 1:')\n",
    "    print(' '.join([y_id_to_word[np.argmax(x)] for x in predictions[0]]))\n",
    "    print('Il a vu un vieux camion jaune')\n",
    "    print('Sample 2:')\n",
    "    print(' '.join([y_id_to_word[np.argmax(x)] for x in predictions[1]]))\n",
    "    print(' '.join([y_id_to_word[np.max(x)] for x in y[0]]))\n",
    "\n",
    "\n",
    "final_predictions(preproc_english_sentences, preproc_french_sentences, english_tokenizer, french_tokenizer)"
   ]
  },
  {
   "cell_type": "markdown",
   "metadata": {},
   "source": [
    "## Submission\n",
    "When you're ready to submit, complete the following steps:\n",
    "1. Review the rubric to ensure your submission meets all requirements to pass\n",
    "2. Generate an HTML version of this notebook\n",
    "\n",
    "  - Run the next cell to attempt automatic generation (this is the recommended method in Workspaces)\n",
    "  - Navigate to **FILE -> Download as -> HTML (.html)**\n",
    "  - Manually generate a copy using `nbconvert` from your shell terminal\n",
    "```\n",
    "$ pip install nbconvert\n",
    "$ python -m nbconvert machine_translation.ipynb\n",
    "```\n",
    "  \n",
    "3. Submit the project\n",
    "\n",
    "  - If you are in a Workspace, simply click the \"Submit Project\" button (bottom towards the right)\n",
    "  \n",
    "  - Otherwise, add the following files into a zip archive and submit them \n",
    "  - `helper.py`\n",
    "  - `machine_translation.ipynb`\n",
    "  - `machine_translation.html`\n",
    "    - You can export the notebook by navigating to **File -> Download as -> HTML (.html)**."
   ]
  },
  {
   "cell_type": "markdown",
   "metadata": {},
   "source": [
    "### Generate the html\n",
    "\n",
    "**Save your notebook before running the next cell to generate the HTML output.** Then submit your project."
   ]
  },
  {
   "cell_type": "code",
   "execution_count": 18,
   "metadata": {},
   "outputs": [],
   "source": [
    "# !pip install jupyter_contrib_nbextensions"
   ]
  },
  {
   "cell_type": "code",
   "execution_count": 17,
   "metadata": {},
   "outputs": [
    {
     "data": {
      "text/plain": [
       "['[NbConvertApp] Converting notebook machine_translation-zh.ipynb to html',\n",
       " '[NbConvertApp] Writing 336925 bytes to machine_translation-zh.html',\n",
       " '[NbConvertApp] Converting notebook machine_translation.ipynb to html',\n",
       " '[NbConvertApp] Writing 395474 bytes to machine_translation.html']"
      ]
     },
     "execution_count": 17,
     "metadata": {},
     "output_type": "execute_result"
    }
   ],
   "source": [
    "# Save before you run this cell!\n",
    "!!jupyter nbconvert *.ipynb --to html"
   ]
  },
  {
   "cell_type": "markdown",
   "metadata": {},
   "source": [
    "## Optional Enhancements\n",
    "\n",
    "This project focuses on learning various network architectures for machine translation, but we don't evaluate the models according to best practices by splitting the data into separate test & training sets -- so the model accuracy is overstated. Use the [`sklearn.model_selection.train_test_split()`](http://scikit-learn.org/stable/modules/generated/sklearn.model_selection.train_test_split.html) function to create separate training & test datasets, then retrain each of the models using only the training set and evaluate the prediction accuracy using the hold out test set. Does the \"best\" model change?"
   ]
  }
 ],
 "metadata": {
  "kernelspec": {
   "display_name": "Python 3 (ipykernel)",
   "language": "python",
   "name": "python3"
  },
  "language_info": {
   "codemirror_mode": {
    "name": "ipython",
    "version": 3
   },
   "file_extension": ".py",
   "mimetype": "text/x-python",
   "name": "python",
   "nbconvert_exporter": "python",
   "pygments_lexer": "ipython3",
   "version": "3.11.0"
  }
 },
 "nbformat": 4,
 "nbformat_minor": 1
}
